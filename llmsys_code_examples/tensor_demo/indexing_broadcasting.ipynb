{
 "cells": [
  {
   "cell_type": "markdown",
   "metadata": {},
   "source": [
    "## Environment Setup"
   ]
  },
  {
   "cell_type": "code",
   "execution_count": null,
   "metadata": {},
   "outputs": [],
   "source": [
    "from google.colab import drive\n",
    "drive.mount('/content/drive')\n",
    "%cd /content/drive/MyDrive/\n",
    "!mkdir -p 11868\n",
    "%cd /content/drive/MyDrive/11868\n",
    "!git clone https://github.com/llmsystem/llmsys_code_examples.git\n",
    "%cd /content/drive/MyDrive/11868/llmsys_code_examples/tensor_demo/miniTorch"
   ]
  },
  {
   "cell_type": "code",
   "execution_count": null,
   "metadata": {},
   "outputs": [],
   "source": [
    "!pip install -r requirements.txt"
   ]
  },
  {
   "cell_type": "code",
   "execution_count": null,
   "metadata": {},
   "outputs": [],
   "source": [
    "!pip install -r requirements.extra.txt"
   ]
  },
  {
   "cell_type": "code",
   "execution_count": null,
   "metadata": {},
   "outputs": [],
   "source": [
    "!pip install -Ue ."
   ]
  },
  {
   "cell_type": "code",
   "execution_count": 5,
   "metadata": {},
   "outputs": [],
   "source": [
    "import minitorch\n",
    "import numpy as np"
   ]
  },
  {
   "cell_type": "markdown",
   "metadata": {},
   "source": [
    "## Indexing\n",
    "\n",
    "<img src=\"../imgs/strides.png\"></img>"
   ]
  },
  {
   "cell_type": "code",
   "execution_count": 6,
   "metadata": {},
   "outputs": [],
   "source": [
    "x = minitorch.tensor([1, 2, 3, 4, 5, 6])"
   ]
  },
  {
   "cell_type": "code",
   "execution_count": 7,
   "metadata": {},
   "outputs": [
    {
     "data": {
      "text/plain": [
       "array([1., 2., 3., 4., 5., 6.])"
      ]
     },
     "execution_count": 7,
     "metadata": {},
     "output_type": "execute_result"
    }
   ],
   "source": [
    "x.to_numpy()"
   ]
  },
  {
   "cell_type": "code",
   "execution_count": 9,
   "metadata": {},
   "outputs": [
    {
     "name": "stdout",
     "output_type": "stream",
     "text": [
      "(6,) (1,)\n"
     ]
    }
   ],
   "source": [
    "x._tensor.shape, x._tensor.strides"
   ]
  },
  {
   "cell_type": "code",
   "execution_count": 45,
   "metadata": {},
   "outputs": [
    {
     "data": {
      "text/plain": [
       "\n",
       "[\n",
       "\t[1.000000 2.000000 3.000000]\n",
       "\t[4.000000 5.000000 6.000000]]"
      ]
     },
     "execution_count": 45,
     "metadata": {},
     "output_type": "execute_result"
    }
   ],
   "source": [
    "y = minitorch.Tensor.make(\n",
    "    storage=x._tensor._storage, \n",
    "    shape=(2, 3), \n",
    "    strides=(3, 1),\n",
    "    backend=x.backend)\n",
    "y"
   ]
  },
  {
   "cell_type": "code",
   "execution_count": 46,
   "metadata": {},
   "outputs": [
    {
     "data": {
      "text/plain": [
       "array([1., 2., 3., 4., 5., 6.])"
      ]
     },
     "execution_count": 46,
     "metadata": {},
     "output_type": "execute_result"
    }
   ],
   "source": [
    "y._tensor._storage"
   ]
  },
  {
   "cell_type": "code",
   "execution_count": 47,
   "metadata": {},
   "outputs": [
    {
     "data": {
      "text/plain": [
       "True"
      ]
     },
     "execution_count": 47,
     "metadata": {},
     "output_type": "execute_result"
    }
   ],
   "source": [
    "y._tensor._storage is x._tensor._storage"
   ]
  },
  {
   "cell_type": "code",
   "execution_count": 55,
   "metadata": {},
   "outputs": [
    {
     "data": {
      "text/plain": [
       "\n",
       "[\n",
       "\t[\n",
       "\t\t[1.000000]\n",
       "\t\t[2.000000]]\n",
       "\t[\n",
       "\t\t[3.000000]\n",
       "\t\t[4.000000]]\n",
       "\t[\n",
       "\t\t[5.000000]\n",
       "\t\t[6.000000]]]"
      ]
     },
     "execution_count": 55,
     "metadata": {},
     "output_type": "execute_result"
    }
   ],
   "source": [
    "z = x.view(3, 2, 1)\n",
    "z"
   ]
  },
  {
   "cell_type": "code",
   "execution_count": 56,
   "metadata": {},
   "outputs": [
    {
     "data": {
      "text/plain": [
       "((3, 2, 1), (3, 1))"
      ]
     },
     "execution_count": 56,
     "metadata": {},
     "output_type": "execute_result"
    }
   ],
   "source": [
    "z._tensor.shape, y._tensor.strides"
   ]
  },
  {
   "cell_type": "code",
   "execution_count": 57,
   "metadata": {},
   "outputs": [
    {
     "data": {
      "text/plain": [
       "True"
      ]
     },
     "execution_count": 57,
     "metadata": {},
     "output_type": "execute_result"
    }
   ],
   "source": [
    "z._tensor._storage is x._tensor._storage"
   ]
  },
  {
   "cell_type": "code",
   "execution_count": 61,
   "metadata": {},
   "outputs": [
    {
     "data": {
      "text/plain": [
       "(True, 3, 4.0)"
      ]
     },
     "execution_count": 61,
     "metadata": {},
     "output_type": "execute_result"
    }
   ],
   "source": [
    "z_index = [1, 1, 0]\n",
    "pos = minitorch.index_to_position(z_index, z._tensor._strides)\n",
    "z[tuple(z_index)] == z._tensor._storage[pos], pos, z[tuple(z_index)]"
   ]
  },
  {
   "cell_type": "code",
   "execution_count": 62,
   "metadata": {},
   "outputs": [
    {
     "data": {
      "text/plain": [
       "[1, 1, 0]"
      ]
     },
     "execution_count": 62,
     "metadata": {},
     "output_type": "execute_result"
    }
   ],
   "source": [
    "out_index = [0, 0, 0]\n",
    "minitorch.to_index(3, z.shape, out_index)\n",
    "out_index"
   ]
  },
  {
   "cell_type": "code",
   "execution_count": 63,
   "metadata": {},
   "outputs": [
    {
     "data": {
      "text/plain": [
       "(3, 1)"
      ]
     },
     "execution_count": 63,
     "metadata": {},
     "output_type": "execute_result"
    }
   ],
   "source": [
    "shape = (2, 3)\n",
    "minitorch.strides_from_shape(shape)"
   ]
  },
  {
   "cell_type": "code",
   "execution_count": 64,
   "metadata": {},
   "outputs": [
    {
     "data": {
      "text/plain": [
       "(2, 1, 1)"
      ]
     },
     "execution_count": 64,
     "metadata": {},
     "output_type": "execute_result"
    }
   ],
   "source": [
    "shape = (3, 2, 1)\n",
    "minitorch.strides_from_shape(shape)"
   ]
  },
  {
   "cell_type": "code",
   "execution_count": 66,
   "metadata": {},
   "outputs": [
    {
     "data": {
      "text/plain": [
       "\n",
       "[\n",
       "\t[\n",
       "\t\t[1.000000 3.000000 5.000000]\n",
       "\t\t[2.000000 4.000000 6.000000]]]"
      ]
     },
     "execution_count": 66,
     "metadata": {},
     "output_type": "execute_result"
    }
   ],
   "source": [
    "p = z.permute(2, 1, 0)\n",
    "p"
   ]
  },
  {
   "cell_type": "code",
   "execution_count": 67,
   "metadata": {},
   "outputs": [
    {
     "data": {
      "text/plain": [
       "((1, 2, 3), (1, 1, 2))"
      ]
     },
     "execution_count": 67,
     "metadata": {},
     "output_type": "execute_result"
    }
   ],
   "source": [
    "p._tensor.shape, p._tensor.strides"
   ]
  },
  {
   "cell_type": "code",
   "execution_count": 68,
   "metadata": {},
   "outputs": [
    {
     "data": {
      "text/plain": [
       "True"
      ]
     },
     "execution_count": 68,
     "metadata": {},
     "output_type": "execute_result"
    }
   ],
   "source": [
    "p._tensor._storage is x._tensor._storage"
   ]
  },
  {
   "cell_type": "code",
   "execution_count": 69,
   "metadata": {},
   "outputs": [
    {
     "data": {
      "text/plain": [
       "[0, 1, 2]"
      ]
     },
     "execution_count": 69,
     "metadata": {},
     "output_type": "execute_result"
    }
   ],
   "source": [
    "p_index = [0, 0, 0]\n",
    "minitorch.to_index(-1, p.shape, p_index)\n",
    "p_index"
   ]
  },
  {
   "cell_type": "code",
   "execution_count": 70,
   "metadata": {},
   "outputs": [
    {
     "data": {
      "text/plain": [
       "5"
      ]
     },
     "execution_count": 70,
     "metadata": {},
     "output_type": "execute_result"
    }
   ],
   "source": [
    "minitorch.index_to_position(p_index, p._tensor._strides)"
   ]
  },
  {
   "cell_type": "markdown",
   "metadata": {},
   "source": [
    "## Shape Broadcast"
   ]
  },
  {
   "cell_type": "markdown",
   "metadata": {},
   "source": [
    "### Broadcast rules\n",
    "\n",
    "\n",
    "<img src=\"../imgs/broadcast_rule.png\"></img>"
   ]
  },
  {
   "cell_type": "markdown",
   "metadata": {},
   "source": [
    "### Broadcast: Vector / Matrix + Scalar\n",
    "\n",
    "\n",
    "<img src=\"../imgs/broadcast_mv_scalar.png\"></img>"
   ]
  },
  {
   "cell_type": "code",
   "execution_count": 93,
   "metadata": {},
   "outputs": [
    {
     "data": {
      "text/plain": [
       "(\n",
       " [11.000000 12.000000 13.000000 14.000000 15.000000 16.000000],\n",
       " (6,))"
      ]
     },
     "execution_count": 93,
     "metadata": {},
     "output_type": "execute_result"
    }
   ],
   "source": [
    "\"\"\"\n",
    "Implemented in minitorch/tensor.py\n",
    "\n",
    "def _ensure_tensor(self, b: TensorLike) -> Tensor:\n",
    "    \"Turns a python number into a tensor with the same backend.\"\n",
    "    if isinstance(b, (int, float)):\n",
    "        c = Tensor.make([b], (1,), backend=self.backend)\n",
    "    else:\n",
    "        b._type_(self.backend)\n",
    "        c = b\n",
    "    return c\n",
    "\n",
    "def __add__(self, b: TensorLike) -> Tensor:\n",
    "    return Add.apply(self, self._ensure_tensor(b))\n",
    "\"\"\"\n",
    "\n",
    "a1 = minitorch.tensor([1, 2, 3, 4, 5, 6])\n",
    "b = a1 + 10\n",
    "b, b.shape"
   ]
  },
  {
   "cell_type": "code",
   "execution_count": 82,
   "metadata": {},
   "outputs": [
    {
     "data": {
      "text/plain": [
       "(\n",
       " [10.000000],\n",
       " (1,),\n",
       " (1,))"
      ]
     },
     "execution_count": 82,
     "metadata": {},
     "output_type": "execute_result"
    }
   ],
   "source": [
    "a2 = a1._ensure_tensor(10)\n",
    "a2, a2._tensor.shape, a2._tensor.strides"
   ]
  },
  {
   "cell_type": "code",
   "execution_count": 87,
   "metadata": {},
   "outputs": [
    {
     "data": {
      "text/plain": [
       "(6,)"
      ]
     },
     "execution_count": 87,
     "metadata": {},
     "output_type": "execute_result"
    }
   ],
   "source": [
    "out_shape = minitorch.shape_broadcast(a1.shape, a2.shape)\n",
    "out_shape"
   ]
  },
  {
   "cell_type": "code",
   "execution_count": 90,
   "metadata": {},
   "outputs": [
    {
     "name": "stdout",
     "output_type": "stream",
     "text": [
      "out_index: [1], o: 1\n",
      "a1_index: [1], i1: 1\n",
      "a2_index: [0], i2: 0\n"
     ]
    }
   ],
   "source": [
    "out_index = [0] * len(out_shape)\n",
    "a1_index = [0] * len(out_shape)\n",
    "a2_index = [0] * len(out_shape)\n",
    "\n",
    "\n",
    "minitorch.to_index(1, out_shape, out_index)\n",
    "o = minitorch.index_to_position(out_index, b._tensor.strides)\n",
    "print(f\"out_index: {out_index}, o: {o}\")\n",
    "minitorch.broadcast_index(out_index, out_shape, a1.shape, a1_index)\n",
    "i1 = minitorch.index_to_position(a1_index, a1._tensor.strides)\n",
    "print(f\"a1_index: {a1_index}, i1: {i1}\")\n",
    "minitorch.broadcast_index(out_index, out_shape, a2.shape, a2_index)\n",
    "i2 = minitorch.index_to_position(a2_index, a2._tensor.strides)\n",
    "print(f\"a2_index: {a2_index}, i2: {i2}\")"
   ]
  },
  {
   "cell_type": "code",
   "execution_count": 92,
   "metadata": {},
   "outputs": [
    {
     "data": {
      "text/plain": [
       "(\n",
       " [\n",
       " \t[\n",
       " \t\t[11.000000]\n",
       " \t\t[12.000000]\n",
       " \t\t[13.000000]]\n",
       " \t[\n",
       " \t\t[14.000000]\n",
       " \t\t[15.000000]\n",
       " \t\t[16.000000]]],\n",
       " (2, 3, 1))"
      ]
     },
     "execution_count": 92,
     "metadata": {},
     "output_type": "execute_result"
    }
   ],
   "source": [
    "c1 = minitorch.tensor([1, 2, 3, 4, 5, 6]).view(2, 3)\n",
    "d = c1 + 10\n",
    "d, d.shape"
   ]
  },
  {
   "cell_type": "code",
   "execution_count": 94,
   "metadata": {},
   "outputs": [
    {
     "data": {
      "text/plain": [
       "(\n",
       " [10.000000],\n",
       " (1,),\n",
       " (1,))"
      ]
     },
     "execution_count": 94,
     "metadata": {},
     "output_type": "execute_result"
    }
   ],
   "source": [
    "c2 = c1._ensure_tensor(10)\n",
    "c2, c2._tensor.shape, c2._tensor.strides"
   ]
  },
  {
   "cell_type": "code",
   "execution_count": 125,
   "metadata": {},
   "outputs": [
    {
     "name": "stdout",
     "output_type": "stream",
     "text": [
      "out_index: [1, 1, 0], o: 4, d[out_index]: 15.0\n",
      "c1_index: [1, 1, 0], i1: 4, c1[c1_index]: 5.0\n",
      "c2_index: [0], i2: 0, c2[c2_index]: 10.0\n"
     ]
    }
   ],
   "source": [
    "out_index = [0] * len(d.shape)\n",
    "c1_index = [0] * len(d.shape)\n",
    "c2_index = [0] * len(d.shape)\n",
    "\n",
    "\n",
    "minitorch.to_index(4, d.shape, out_index)\n",
    "o = minitorch.index_to_position(out_index, d._tensor.strides)\n",
    "print(f\"out_index: {out_index}, o: {o}, d[out_index]: {d[tuple(out_index)]}\")\n",
    "minitorch.broadcast_index(out_index, d.shape, c1.shape, c1_index)\n",
    "i1 = minitorch.index_to_position(c1_index, c1._tensor.strides)\n",
    "print(f\"c1_index: {c1_index[:len(c1.shape)]}, i1: {i1}, c1[c1_index]: {c1[tuple(c1_index[:len(c1.shape)])]}\")\n",
    "minitorch.broadcast_index(out_index, out_shape, c2.shape, c2_index)\n",
    "i2 = minitorch.index_to_position(c2_index, c2._tensor.strides)\n",
    "print(f\"c2_index: {c2_index[:len(c2.shape)]}, i2: {i2}, c2[c2_index]: {c2[tuple(c2_index[:len(c2.shape)])]}\")"
   ]
  },
  {
   "cell_type": "markdown",
   "metadata": {},
   "source": [
    "### Broadcast: Matrix + Vector\n",
    "\n",
    "\n",
    "<img src=\"../imgs/broadcast_matrix_vector.png\"></img>"
   ]
  },
  {
   "cell_type": "code",
   "execution_count": 137,
   "metadata": {},
   "outputs": [
    {
     "data": {
      "text/plain": [
       "(\n",
       " [\n",
       " \t[2.000000 4.000000 6.000000]\n",
       " \t[5.000000 7.000000 9.000000]],\n",
       " (2, 3))"
      ]
     },
     "execution_count": 137,
     "metadata": {},
     "output_type": "execute_result"
    }
   ],
   "source": [
    "e1 = minitorch.tensor([1, 2, 3, 4, 5, 6]).view(2, 3)\n",
    "e2 = minitorch.tensor([1, 2, 3])\n",
    "f = e1 + e2\n",
    "f, f.shape"
   ]
  },
  {
   "cell_type": "code",
   "execution_count": 138,
   "metadata": {},
   "outputs": [
    {
     "data": {
      "text/plain": [
       "(2, 3)"
      ]
     },
     "execution_count": 138,
     "metadata": {},
     "output_type": "execute_result"
    }
   ],
   "source": [
    "f_shape = minitorch.shape_broadcast(e1.shape, e2.shape)\n",
    "f_shape"
   ]
  },
  {
   "cell_type": "code",
   "execution_count": 139,
   "metadata": {},
   "outputs": [
    {
     "data": {
      "text/plain": [
       "(array([2., 4., 6., 5., 7., 9.]), 7.0)"
      ]
     },
     "execution_count": 139,
     "metadata": {},
     "output_type": "execute_result"
    }
   ],
   "source": [
    "f._tensor._storage, f._tensor._storage[4]"
   ]
  },
  {
   "cell_type": "code",
   "execution_count": 141,
   "metadata": {},
   "outputs": [
    {
     "name": "stdout",
     "output_type": "stream",
     "text": [
      "out_index: [1, 1], o: 4, f[out_index]: 7.0\n",
      "e1_index: [1, 1], i1: 4, e1[e1_index]: 5.0\n",
      "e2_index: [1], i2: 1, e2[e2_index]: 2.0\n"
     ]
    }
   ],
   "source": [
    "out_index = [0] * len(f.shape)\n",
    "e1_index = [0] * len(f.shape)\n",
    "e2_index = [0] * len(f.shape)\n",
    "\n",
    "\n",
    "minitorch.to_index(4, f.shape, out_index)\n",
    "o = minitorch.index_to_position(out_index, f._tensor.strides)\n",
    "print(f\"out_index: {out_index}, o: {o}, f[out_index]: {f[tuple(out_index)]}\")\n",
    "minitorch.broadcast_index(out_index, f.shape, e1.shape, e1_index)\n",
    "i1 = minitorch.index_to_position(e1_index, e1._tensor.strides)\n",
    "print(f\"e1_index: {e1_index[:len(e1.shape)]}, i1: {i1}, e1[e1_index]: {e1[tuple(e1_index[:len(e1.shape)])]}\")\n",
    "minitorch.broadcast_index(out_index, f.shape, e2.shape, e2_index)\n",
    "i2 = minitorch.index_to_position(e2_index, e2._tensor.strides)\n",
    "print(f\"e2_index: {e2_index[:len(e2.shape)]}, i2: {i2}, e2[e2_index]: {e2[tuple(e2_index[:len(e2.shape)])]}\")"
   ]
  },
  {
   "cell_type": "code",
   "execution_count": 142,
   "metadata": {},
   "outputs": [
    {
     "data": {
      "text/plain": [
       "(array([2., 4., 6., 5., 7., 9.]), 4.0)"
      ]
     },
     "execution_count": 142,
     "metadata": {},
     "output_type": "execute_result"
    }
   ],
   "source": [
    "f._tensor._storage, f._tensor._storage[1]"
   ]
  },
  {
   "cell_type": "code",
   "execution_count": 144,
   "metadata": {},
   "outputs": [
    {
     "name": "stdout",
     "output_type": "stream",
     "text": [
      "out_index: [0, 0], o: 0, f[out_index]: 2.0\n",
      "e1_index: [0, 0], i1: 0, e1[e1_index]: 1.0\n",
      "e2_index: [0], i2: 0, e2[e2_index]: 1.0\n"
     ]
    }
   ],
   "source": [
    "out_index = [0] * len(f.shape)\n",
    "e1_index = [0] * len(f.shape)\n",
    "e2_index = [0] * len(f.shape)\n",
    "\n",
    "\n",
    "minitorch.to_index(0, f.shape, out_index)\n",
    "o = minitorch.index_to_position(out_index, f._tensor.strides)\n",
    "print(f\"out_index: {out_index}, o: {o}, f[out_index]: {f[tuple(out_index)]}\")\n",
    "minitorch.broadcast_index(out_index, f.shape, e1.shape, e1_index)\n",
    "i1 = minitorch.index_to_position(e1_index, e1._tensor.strides)\n",
    "print(f\"e1_index: {e1_index[:len(e1.shape)]}, i1: {i1}, e1[e1_index]: {e1[tuple(e1_index[:len(e1.shape)])]}\")\n",
    "minitorch.broadcast_index(out_index, f.shape, e2.shape, e2_index)\n",
    "i2 = minitorch.index_to_position(e2_index, e2._tensor.strides)\n",
    "print(f\"e2_index: {e2_index[:len(e2.shape)]}, i2: {i2}, e2[e2_index]: {e2[tuple(e2_index[:len(e2.shape)])]}\")"
   ]
  },
  {
   "cell_type": "markdown",
   "metadata": {},
   "source": [
    "## Reduce Demo\n",
    "\n",
    "<img src=\"../imgs/reduce.jpg\"></img>"
   ]
  },
  {
   "cell_type": "code",
   "execution_count": 6,
   "metadata": {},
   "outputs": [],
   "source": [
    "t = minitorch.tensor([i for i in range(24)]).view(2, 3, 4)"
   ]
  },
  {
   "cell_type": "code",
   "execution_count": 4,
   "metadata": {},
   "outputs": [
    {
     "data": {
      "text/plain": [
       "\n",
       "[\n",
       "\t[\n",
       "\t\t[0.000000 1.000000 2.000000 3.000000]\n",
       "\t\t[4.000000 5.000000 6.000000 7.000000]\n",
       "\t\t[8.000000 9.000000 10.000000 11.000000]]\n",
       "\t[\n",
       "\t\t[12.000000 13.000000 14.000000 15.000000]\n",
       "\t\t[16.000000 17.000000 18.000000 19.000000]\n",
       "\t\t[20.000000 21.000000 22.000000 23.000000]]]"
      ]
     },
     "execution_count": 4,
     "metadata": {},
     "output_type": "execute_result"
    }
   ],
   "source": [
    "t"
   ]
  },
  {
   "cell_type": "code",
   "execution_count": 3,
   "metadata": {},
   "outputs": [
    {
     "data": {
      "text/plain": [
       "\n",
       "[\n",
       "\t[\n",
       "\t\t[12.000000 15.000000 18.000000 21.000000]]\n",
       "\t[\n",
       "\t\t[48.000000 51.000000 54.000000 57.000000]]]"
      ]
     },
     "execution_count": 3,
     "metadata": {},
     "output_type": "execute_result"
    }
   ],
   "source": [
    "t.sum(1)"
   ]
  },
  {
   "cell_type": "code",
   "execution_count": 15,
   "metadata": {},
   "outputs": [],
   "source": [
    "reduce_dim = 1\n",
    "reduce_value = 0\n",
    "out_shape = list(t.shape)\n",
    "out_shape[reduce_dim] = 1\n",
    "out_storage = [reduce_value] * np.prod(out_shape)\n",
    "out_strides = minitorch.strides_from_shape(out_shape)\n",
    "in_storage = t._tensor._storage\n",
    "in_strides = t._tensor._strides"
   ]
  },
  {
   "cell_type": "code",
   "execution_count": 9,
   "metadata": {},
   "outputs": [],
   "source": [
    "fn = lambda x, y: x + y"
   ]
  },
  {
   "cell_type": "code",
   "execution_count": 20,
   "metadata": {},
   "outputs": [
    {
     "name": "stdout",
     "output_type": "stream",
     "text": [
      "out_idx: 0, out_index: [0, 0, 0], out_pos: 0\n",
      "a_index: [0, 0, 0], a_pos: 0\n",
      "a_index: [0, 1, 0], a_pos: 4\n",
      "a_index: [0, 2, 0], a_pos: 8\n",
      "out_idx: 1, out_index: [0, 0, 1], out_pos: 1\n",
      "a_index: [0, 0, 1], a_pos: 1\n",
      "a_index: [0, 1, 1], a_pos: 5\n",
      "a_index: [0, 2, 1], a_pos: 9\n",
      "out_idx: 2, out_index: [0, 0, 2], out_pos: 2\n",
      "a_index: [0, 0, 2], a_pos: 2\n",
      "a_index: [0, 1, 2], a_pos: 6\n",
      "a_index: [0, 2, 2], a_pos: 10\n",
      "out_idx: 3, out_index: [0, 0, 3], out_pos: 3\n",
      "a_index: [0, 0, 3], a_pos: 3\n",
      "a_index: [0, 1, 3], a_pos: 7\n",
      "a_index: [0, 2, 3], a_pos: 11\n",
      "out_idx: 4, out_index: [1, 0, 0], out_pos: 4\n",
      "a_index: [1, 0, 0], a_pos: 12\n",
      "a_index: [1, 1, 0], a_pos: 16\n",
      "a_index: [1, 2, 0], a_pos: 20\n",
      "out_idx: 5, out_index: [1, 0, 1], out_pos: 5\n",
      "a_index: [1, 0, 1], a_pos: 13\n",
      "a_index: [1, 1, 1], a_pos: 17\n",
      "a_index: [1, 2, 1], a_pos: 21\n",
      "out_idx: 6, out_index: [1, 0, 2], out_pos: 6\n",
      "a_index: [1, 0, 2], a_pos: 14\n",
      "a_index: [1, 1, 2], a_pos: 18\n",
      "a_index: [1, 2, 2], a_pos: 22\n",
      "out_idx: 7, out_index: [1, 0, 3], out_pos: 7\n",
      "a_index: [1, 0, 3], a_pos: 15\n",
      "a_index: [1, 1, 3], a_pos: 19\n",
      "a_index: [1, 2, 3], a_pos: 23\n"
     ]
    }
   ],
   "source": [
    "out_index = [0] * 3\n",
    "reduce_size = t.shape[reduce_dim]\n",
    "for i in range(len(out_storage)):\n",
    "    minitorch.to_index(i, out_shape, out_index)\n",
    "    o = minitorch.index_to_position(out_index, out_strides)\n",
    "    print(f\"out_idx: {i}, out_index: {out_index}, out_pos: {o}\")\n",
    "    for s in range(reduce_size):\n",
    "        out_index[reduce_dim] = s\n",
    "        j = minitorch.index_to_position(out_index, in_strides)\n",
    "        print(f\"a_index: {out_index}, a_pos: {j}\")\n",
    "        out_storage[o] = fn(out_storage[o], in_storage[j])"
   ]
  },
  {
   "cell_type": "code",
   "execution_count": 17,
   "metadata": {},
   "outputs": [
    {
     "data": {
      "text/plain": [
       "[12.0, 15.0, 18.0, 21.0, 48.0, 51.0, 54.0, 57.0]"
      ]
     },
     "execution_count": 17,
     "metadata": {},
     "output_type": "execute_result"
    }
   ],
   "source": [
    "out_storage"
   ]
  }
 ],
 "metadata": {
  "kernelspec": {
   "display_name": "minitorch",
   "language": "python",
   "name": "python3"
  },
  "language_info": {
   "codemirror_mode": {
    "name": "ipython",
    "version": 3
   },
   "file_extension": ".py",
   "mimetype": "text/x-python",
   "name": "python",
   "nbconvert_exporter": "python",
   "pygments_lexer": "ipython3",
   "version": "3.8.18"
  }
 },
 "nbformat": 4,
 "nbformat_minor": 2
}
